{
 "cells": [
  {
   "cell_type": "code",
   "execution_count": 1,
   "metadata": {
    "scrolled": true
   },
   "outputs": [
    {
     "name": "stderr",
     "output_type": "stream",
     "text": [
      "[] [DEBUG] Welcome to use mirobot_py (version： kyle2020-0821)\n",
      "[] [DEBUG] Attempting to open serial port COM7\n",
      "[] [DEBUG] Succeeded in opening serial port COM7\n",
      "[COM7] [DEBUG] [RECV] \n",
      "[COM7] [DEBUG] [RECV] Grbl 0.9j ['$' for help]\n",
      "[COM7] [DEBUG] [RECV] \n",
      "[COM7] [DEBUG] [RECV] Qinnew Robot 20200803_TEST_1 based on Grbl 0.9j ['$' for help]\n",
      "[COM7] [DEBUG] [RECV] \n",
      "[COM7] [DEBUG] [RECV] D1: 127.000\n",
      "[COM7] [DEBUG] [RECV] A1: 29.690\n",
      "[COM7] [DEBUG] [RECV] A2: 108.000\n",
      "[COM7] [DEBUG] [RECV] A3: 20.000\n",
      "[COM7] [DEBUG] [RECV] D4: 168.980\n",
      "[COM7] [DEBUG] [RECV] L: -24.280\n",
      "[COM7] [DEBUG] [RECV] X offset: 0.000\n",
      "[COM7] [DEBUG] [RECV] Y offset: 0.000\n",
      "[COM7] [DEBUG] [RECV] Z offset: 0.000\n",
      "[COM7] [DEBUG] [RECV] X tool frame offset: 0.000\n",
      "[COM7] [DEBUG] [RECV] Y tool frame offset: 0.000\n",
      "[COM7] [DEBUG] [RECV] Z tool frame offset: 0.000\n",
      "[COM7] [DEBUG] [RECV] Line discard number: 0\n",
      "[COM7] [DEBUG] [RECV] Axis_7 mode: Rail mode\n",
      "[COM7] [DEBUG] [RECV] Initialized Cartesian coordinates and rotation:\n",
      "[COM7] [DEBUG] [RECV] X: 198.670\n",
      "[COM7] [DEBUG] [RECV] Y: 0.000\n",
      "[COM7] [DEBUG] [RECV] Z: 230.720\n",
      "[COM7] [DEBUG] [RECV] RX: 0.000\n",
      "[COM7] [DEBUG] [RECV] RY: 0.000\n",
      "[COM7] [DEBUG] [RECV] RZ: 0.000\n",
      "[COM7] [DEBUG] [RECV] Using reset pos!\n",
      "[COM7] [DEBUG] [RECV CACHE] \n",
      "Free memory: 2036\n",
      "\n",
      "[COM7] [DEBUG] [SENT] $H\n",
      "[COM7] [DEBUG] [RECV] in homeing moving...ok\n"
     ]
    },
    {
     "data": {
      "text/plain": [
       "['in homeing moving...ok']"
      ]
     },
     "execution_count": 1,
     "metadata": {},
     "output_type": "execute_result"
    }
   ],
   "source": [
    "from mirobot import Mirobot\n",
    "import time\n",
    "arm = Mirobot(portname='COM7', debug=True)\n",
    "arm.home_simultaneous()"
   ]
  },
  {
   "cell_type": "code",
   "execution_count": 2,
   "metadata": {},
   "outputs": [
    {
     "name": "stderr",
     "output_type": "stream",
     "text": [
      "[COM7] [DEBUG] [RECV CACHE] \n",
      "[COM7] [DEBUG] [SENT] ?\n",
      "[COM7] [DEBUG] [RECV] <Idle,Angle(ABCDXYZ):0.000,0.000,0.000,0.000,0.000,0.000,0.000,Cartesian coordinate(XYZ RxRyRz):198.670,0.000,230.720,0.000,0.000,0.000,Pump PWM:0,Valve PWM:0,Motion_MODE:0>\n",
      "[COM7] [DEBUG] [RECV] ok\n"
     ]
    }
   ],
   "source": [
    "arm.update_status()"
   ]
  },
  {
   "cell_type": "code",
   "execution_count": 12,
   "metadata": {},
   "outputs": [
    {
     "name": "stderr",
     "output_type": "stream",
     "text": [
      "[COM7] [DEBUG] [RECV CACHE] ok\n",
      "\n",
      "[COM7] [DEBUG] [SENT] M20 G90 G0 X198.67 Y20 Z230 F2000\n",
      "[COM7] [DEBUG] [RECV] ok\n",
      "[COM7] [DEBUG] [RECV CACHE] ok\n",
      "\n",
      "[COM7] [DEBUG] [SENT] M20 G90 G0 X198.67 Y20 Z150 F2000\n",
      "[COM7] [DEBUG] [RECV] ok\n",
      "[COM7] [DEBUG] current mirobot state: Run\n",
      "[COM7] [DEBUG] current mirobot state: Run\n",
      "[COM7] [DEBUG] current mirobot state: Run\n",
      "[COM7] [DEBUG] current mirobot state: Run\n",
      "[COM7] [DEBUG] current mirobot state: Run\n",
      "[COM7] [DEBUG] current mirobot state: Run\n",
      "[COM7] [DEBUG] current mirobot state: Run\n",
      "[COM7] [DEBUG] current mirobot state: Run\n",
      "[COM7] [DEBUG] current mirobot state: Run\n",
      "[COM7] [DEBUG] current mirobot state: Run\n",
      "[COM7] [DEBUG] current mirobot state: Run\n",
      "[COM7] [DEBUG] current mirobot state: Run\n",
      "[COM7] [DEBUG] current mirobot state: Idle\n",
      "[COM7] [DEBUG] [RECV CACHE] ok\n",
      "\n",
      "[COM7] [DEBUG] [SENT] M20 G90 G0 X150.0 Y20 Z230 F2000\n",
      "[COM7] [DEBUG] [RECV] ok\n",
      "[COM7] [DEBUG] current mirobot state: Run\n",
      "[COM7] [DEBUG] current mirobot state: Run\n",
      "[COM7] [DEBUG] current mirobot state: Run\n",
      "[COM7] [DEBUG] current mirobot state: Run\n",
      "[COM7] [DEBUG] current mirobot state: Run\n",
      "[COM7] [DEBUG] current mirobot state: Run\n",
      "[COM7] [DEBUG] current mirobot state: Run\n",
      "[COM7] [DEBUG] current mirobot state: Run\n",
      "[COM7] [DEBUG] current mirobot state: Run\n",
      "[COM7] [DEBUG] current mirobot state: Run\n",
      "[COM7] [DEBUG] current mirobot state: Run\n",
      "[COM7] [DEBUG] current mirobot state: Run\n",
      "[COM7] [DEBUG] current mirobot state: Run\n",
      "[COM7] [DEBUG] current mirobot state: Idle\n"
     ]
    },
    {
     "data": {
      "text/plain": [
       "['ok']"
      ]
     },
     "execution_count": 12,
     "metadata": {},
     "output_type": "execute_result"
    }
   ],
   "source": [
    "print(\"运动到目标点 A\")\n",
    "arm.go_to_cartesian_ptp(200,  20, 230)\n",
    "print(f\"当前末端在机械臂坐标系下的位姿 {arm.cartesian}\")\n",
    "time.sleep(1)\n",
    "print(\"运动到目标点 B\")\n",
    "arm.go_to_cartesian_ptp(200,  20, 150)\n",
    "print(f\"当前末端在机械臂坐标系下的位姿 {arm.cartesian}\")\n",
    "time.sleep(1)\n",
    "print(\"运动到目标点 C\")\n",
    "arm.go_to_cartesian_ptp(150.,  -20, 230)\n",
    "print(f\"当前末端在机械臂坐标系下的位姿 {arm.cartesian}\")"
   ]
  },
  {
   "cell_type": "code",
   "execution_count": null,
   "metadata": {},
   "outputs": [],
   "source": []
  },
  {
   "cell_type": "code",
   "execution_count": 13,
   "metadata": {},
   "outputs": [
    {
     "name": "stderr",
     "output_type": "stream",
     "text": [
      "[COM7] [DEBUG] [RECV CACHE] ok\n",
      "\n",
      "[COM7] [DEBUG] [SENT] M20 G90 G0 X150.0 Y-20 Z230 F2000\n",
      "[COM7] [DEBUG] [RECV] ok\n",
      "[COM7] [DEBUG] current mirobot state: Run\n",
      "[COM7] [DEBUG] current mirobot state: Run\n",
      "[COM7] [DEBUG] current mirobot state: Run\n",
      "[COM7] [DEBUG] current mirobot state: Run\n",
      "[COM7] [DEBUG] current mirobot state: Run\n",
      "[COM7] [DEBUG] current mirobot state: Run\n",
      "[COM7] [DEBUG] current mirobot state: Run\n",
      "[COM7] [DEBUG] current mirobot state: Run\n",
      "[COM7] [DEBUG] current mirobot state: Idle\n"
     ]
    },
    {
     "data": {
      "text/plain": [
       "['ok']"
      ]
     },
     "execution_count": 13,
     "metadata": {},
     "output_type": "execute_result"
    }
   ],
   "source": []
  },
  {
   "cell_type": "code",
   "execution_count": 10,
   "metadata": {},
   "outputs": [
    {
     "name": "stderr",
     "output_type": "stream",
     "text": [
      "[COM7] [DEBUG] [RECV CACHE] ok\n",
      "\n",
      "[COM7] [DEBUG] [SENT] M20 G90 G0 X198.67 Y20 Z150 F2000\n",
      "[COM7] [DEBUG] [RECV] ok\n",
      "[COM7] [DEBUG] current mirobot state: Run\n",
      "[COM7] [DEBUG] current mirobot state: Run\n",
      "[COM7] [DEBUG] current mirobot state: Run\n",
      "[COM7] [DEBUG] current mirobot state: Run\n",
      "[COM7] [DEBUG] current mirobot state: Run\n",
      "[COM7] [DEBUG] current mirobot state: Run\n",
      "[COM7] [DEBUG] current mirobot state: Run\n",
      "[COM7] [DEBUG] current mirobot state: Run\n",
      "[COM7] [DEBUG] current mirobot state: Run\n",
      "[COM7] [DEBUG] current mirobot state: Run\n",
      "[COM7] [DEBUG] current mirobot state: Run\n",
      "[COM7] [DEBUG] current mirobot state: Run\n",
      "[COM7] [DEBUG] current mirobot state: Idle\n"
     ]
    },
    {
     "data": {
      "text/plain": [
       "['ok']"
      ]
     },
     "execution_count": 10,
     "metadata": {},
     "output_type": "execute_result"
    }
   ],
   "source": []
  },
  {
   "cell_type": "code",
   "execution_count": null,
   "metadata": {},
   "outputs": [],
   "source": []
  },
  {
   "cell_type": "code",
   "execution_count": 3,
   "metadata": {},
   "outputs": [
    {
     "data": {
      "text/plain": [
       "MirobotStatus(state='Idle', angle=MirobotAngles(a=0.0, b=0.0, c=0.0, x=0.0, y=0.0, z=0.0, d=0.0), cartesian=MirobotCartesians(x=198.67, y=0.0, z=230.72, a=0.0, b=0.0, c=0.0), pump_pwm=0, valve_pwm=0, motion_mode=True)"
      ]
     },
     "execution_count": 3,
     "metadata": {},
     "output_type": "execute_result"
    }
   ],
   "source": [
    "arm.status"
   ]
  },
  {
   "cell_type": "code",
   "execution_count": 8,
   "metadata": {},
   "outputs": [
    {
     "name": "stderr",
     "output_type": "stream",
     "text": [
      "[COM7] [DEBUG] [RECV CACHE] ok\n",
      "\n",
      "[COM7] [DEBUG] [SENT] M20 G90 G1 X-3.985 Y241.5 Z190.19 A0 B0 C0 F2000\n",
      "[COM7] [DEBUG] [RECV] ok\n",
      "[COM7] [DEBUG] current mirobot state: Run\n",
      "[COM7] [DEBUG] current mirobot state: Run\n",
      "[COM7] [DEBUG] current mirobot state: Run\n",
      "[COM7] [DEBUG] current mirobot state: Run\n",
      "[COM7] [DEBUG] current mirobot state: Run\n",
      "[COM7] [DEBUG] current mirobot state: Run\n",
      "[COM7] [DEBUG] current mirobot state: Run\n",
      "[COM7] [DEBUG] current mirobot state: Run\n",
      "[COM7] [DEBUG] current mirobot state: Run\n",
      "[COM7] [DEBUG] current mirobot state: Run\n",
      "[COM7] [DEBUG] current mirobot state: Run\n",
      "[COM7] [DEBUG] current mirobot state: Run\n",
      "[COM7] [DEBUG] current mirobot state: Run\n",
      "[COM7] [DEBUG] current mirobot state: Run\n",
      "[COM7] [DEBUG] current mirobot state: Run\n",
      "[COM7] [DEBUG] current mirobot state: Run\n",
      "[COM7] [DEBUG] current mirobot state: Run\n",
      "[COM7] [DEBUG] current mirobot state: Run\n",
      "[COM7] [DEBUG] current mirobot state: Run\n",
      "[COM7] [DEBUG] current mirobot state: Run\n",
      "[COM7] [DEBUG] current mirobot state: Run\n",
      "[COM7] [DEBUG] current mirobot state: Run\n",
      "[COM7] [DEBUG] current mirobot state: Run\n",
      "[COM7] [DEBUG] current mirobot state: Run\n",
      "[COM7] [DEBUG] current mirobot state: Run\n",
      "[COM7] [DEBUG] current mirobot state: Run\n",
      "[COM7] [DEBUG] current mirobot state: Run\n",
      "[COM7] [DEBUG] current mirobot state: Run\n",
      "[COM7] [DEBUG] current mirobot state: Run\n",
      "[COM7] [DEBUG] current mirobot state: Run\n",
      "[COM7] [DEBUG] current mirobot state: Run\n",
      "[COM7] [DEBUG] current mirobot state: Run\n",
      "[COM7] [DEBUG] current mirobot state: Run\n",
      "[COM7] [DEBUG] current mirobot state: Run\n",
      "[COM7] [DEBUG] current mirobot state: Run\n",
      "[COM7] [DEBUG] current mirobot state: Run\n",
      "[COM7] [DEBUG] current mirobot state: Run\n",
      "[COM7] [DEBUG] current mirobot state: Run\n",
      "[COM7] [DEBUG] current mirobot state: Run\n",
      "[COM7] [DEBUG] current mirobot state: Idle\n"
     ]
    },
    {
     "data": {
      "text/plain": [
       "['ok']"
      ]
     },
     "execution_count": 8,
     "metadata": {},
     "output_type": "execute_result"
    }
   ],
   "source": [
    "arm.go_to_cartesian_lin(x=-3.985, y=241.50, z=190.19, a=0, b=0, c=0)"
   ]
  },
  {
   "cell_type": "code",
   "execution_count": 11,
   "metadata": {},
   "outputs": [
    {
     "data": {
      "text/plain": [
       "MirobotCartesians(x=-3.985, y=241.503, z=190.191, a=28.916, b=13.226, c=139.337)"
      ]
     },
     "execution_count": 11,
     "metadata": {},
     "output_type": "execute_result"
    }
   ],
   "source": [
    "arm.cartesian"
   ]
  },
  {
   "cell_type": "code",
   "execution_count": 10,
   "metadata": {},
   "outputs": [
    {
     "name": "stdout",
     "output_type": "stream",
     "text": [
      "Help on method go_to_cartesian_lin in module mirobot.mirobot:\n",
      "\n",
      "go_to_cartesian_lin(x=None, y=None, z=None, a=None, b=None, c=None, speed=None, wait=None) method of mirobot.mirobot.Mirobot instance\n",
      "    Linear move to a position in cartesian coordinates. (Command: `M20 G90 G1`)\n",
      "    \n",
      "    Parameters\n",
      "    ----------\n",
      "    x : Union[float, mirobot.mirobot_status.MirobotCartesians]\n",
      "        (Default value = `None`) If `float`, this represents the X-axis position.\n",
      "                                 If of type `mirobot.mirobot_status.MirobotCartesians`, then this will be used for all positional values instead.\n",
      "    y : float\n",
      "        (Default value = `None`) Y-axis position.\n",
      "    z : float\n",
      "        (Default value = `None`) Z-axis position.\n",
      "    a : float\n",
      "        (Default value = `None`) Orientation angle: Roll angle\n",
      "    b : float\n",
      "        (Default value = `None`) Orientation angle: Pitch angle\n",
      "    c : float\n",
      "        (Default value = `None`) Orientation angle: Yaw angle\n",
      "    speed : int\n",
      "        (Default value = `None`) The speed in which the Mirobot moves during this operation. (mm/s)\n",
      "    wait : bool\n",
      "        (Default value = `None`) Whether to wait for output to return from the Mirobot before returning from the function. This value determines if the function will block until the operation recieves feedback. If `None`, use class default `BaseMirobot.wait` instead.\n",
      "    \n",
      "    Returns\n",
      "    -------\n",
      "    msg : List[str] or bool\n",
      "        If `wait` is `True`, then return a list of strings which contains message output.\n",
      "        If `wait` is `False`, then return whether sending the message succeeded.\n",
      "\n"
     ]
    }
   ],
   "source": [
    "help(arm.go_to_cartesian_lin)"
   ]
  }
 ],
 "metadata": {
  "kernelspec": {
   "display_name": "Python 3",
   "language": "python",
   "name": "python3"
  },
  "language_info": {
   "codemirror_mode": {
    "name": "ipython",
    "version": 3
   },
   "file_extension": ".py",
   "mimetype": "text/x-python",
   "name": "python",
   "nbconvert_exporter": "python",
   "pygments_lexer": "ipython3",
   "version": "3.7.8"
  }
 },
 "nbformat": 4,
 "nbformat_minor": 4
}
